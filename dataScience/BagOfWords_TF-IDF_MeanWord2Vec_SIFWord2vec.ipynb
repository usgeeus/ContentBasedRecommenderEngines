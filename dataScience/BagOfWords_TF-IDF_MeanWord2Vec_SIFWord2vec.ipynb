{
 "cells": [
  {
   "cell_type": "code",
   "execution_count": 18,
   "metadata": {},
   "outputs": [],
   "source": [
    "import pandas as pd\n",
    "import numpy as np"
   ]
  },
  {
   "cell_type": "code",
   "execution_count": 19,
   "metadata": {},
   "outputs": [],
   "source": [
    "data = pd.read_csv('C:/Users/Gee/Documents/카카오톡 받은 파일/books8.csv', low_memory=False)"
   ]
  },
  {
   "cell_type": "code",
   "execution_count": 20,
   "metadata": {},
   "outputs": [
    {
     "name": "stdout",
     "output_type": "stream",
     "text": [
      "False\n"
     ]
    }
   ],
   "source": [
    "data = data.dropna(how = 'any') \n",
    "print(data.isnull().values.any())"
   ]
  },
  {
   "cell_type": "code",
   "execution_count": 22,
   "metadata": {},
   "outputs": [],
   "source": [
    "data['words'] = data[['bookName','description']].apply(lambda x: ' '.join(x), axis=1)"
   ]
  },
  {
   "cell_type": "code",
   "execution_count": 23,
   "metadata": {
    "scrolled": true
   },
   "outputs": [],
   "source": [
    "data = data.drop(columns=['Unnamed: 0'])\n",
    "data['ID'] = list(range(data.shape[0]))"
   ]
  },
  {
   "cell_type": "code",
   "execution_count": 24,
   "metadata": {},
   "outputs": [],
   "source": [
    "data['words'] = data['words'].str.replace(\"[^ㄱ-ㅎㅏ-ㅣ가-힣 ]\",\"\")"
   ]
  },
  {
   "cell_type": "code",
   "execution_count": 25,
   "metadata": {},
   "outputs": [],
   "source": [
    "stop = ['들','좀','과','은','도','걍','를','으로','자','에','잘','의','가','이','와','한','하다','는']"
   ]
  },
  {
   "cell_type": "code",
   "execution_count": 26,
   "metadata": {},
   "outputs": [
    {
     "data": {
      "text/html": [
       "<div>\n",
       "<style scoped>\n",
       "    .dataframe tbody tr th:only-of-type {\n",
       "        vertical-align: middle;\n",
       "    }\n",
       "\n",
       "    .dataframe tbody tr th {\n",
       "        vertical-align: top;\n",
       "    }\n",
       "\n",
       "    .dataframe thead th {\n",
       "        text-align: right;\n",
       "    }\n",
       "</style>\n",
       "<table border=\"1\" class=\"dataframe\">\n",
       "  <thead>\n",
       "    <tr style=\"text-align: right;\">\n",
       "      <th></th>\n",
       "      <th>ISBN</th>\n",
       "      <th>bookName</th>\n",
       "      <th>authors</th>\n",
       "      <th>publisher</th>\n",
       "      <th>bookImageURL</th>\n",
       "      <th>publicationYear</th>\n",
       "      <th>classNo</th>\n",
       "      <th>loanCnt</th>\n",
       "      <th>description</th>\n",
       "      <th>text</th>\n",
       "      <th>ID</th>\n",
       "    </tr>\n",
       "  </thead>\n",
       "  <tbody>\n",
       "    <tr>\n",
       "      <th>0</th>\n",
       "      <td>9788993499599</td>\n",
       "      <td>(동화작가 조성자의) 엄마표 독서토론논술 :내 아이의 미래를 결정짓는 독서 교육의...</td>\n",
       "      <td>조성자 지음</td>\n",
       "      <td>조선에듀케이션</td>\n",
       "      <td>http://image.aladin.co.kr/product/783/33/cove...</td>\n",
       "      <td>2010</td>\n",
       "      <td>29.800</td>\n",
       "      <td>6312</td>\n",
       "      <td>아이의 미래를 위한 통합 독서 교육 이야기『동화작가 조성자의 엄마표 독토논』. 초등...</td>\n",
       "      <td>동화작가 조성자의 엄마표 독서토론논술 내 아이의 미래를 결정짓는 독서 교육의 모든...</td>\n",
       "      <td>0</td>\n",
       "    </tr>\n",
       "    <tr>\n",
       "      <th>1</th>\n",
       "      <td>9788991998278</td>\n",
       "      <td>개미, 공룡의 샅바를 잡다! :왕초보를 위한 기술적 분석의 모든 것</td>\n",
       "      <td>김정환 지음</td>\n",
       "      <td>이레미디어</td>\n",
       "      <td>http://image.aladin.co.kr/product/400/97/cove...</td>\n",
       "      <td>2009</td>\n",
       "      <td>327.850</td>\n",
       "      <td>2062</td>\n",
       "      <td>주식시장, 제대로 파악하고 계십니까? 기술적 분석 모르고 주식시장에 뛰어들지 말라!...</td>\n",
       "      <td>개미 공룡의 샅바를 잡다 왕초보를 위한 기술적 분석의 모든 것 주식시장 제대로 파...</td>\n",
       "      <td>1</td>\n",
       "    </tr>\n",
       "    <tr>\n",
       "      <th>2</th>\n",
       "      <td>9788957075029</td>\n",
       "      <td>(게임하는 인간) 호모루두스 =존 내시의 게임이론으로 살펴본 인간본성의 비밀 /H...</td>\n",
       "      <td>지은이: 톰 지그프리드 ;옮긴이: 이정국</td>\n",
       "      <td>자음과모음</td>\n",
       "      <td>http://image.aladin.co.kr/product/735/13/cove...</td>\n",
       "      <td>2010</td>\n",
       "      <td>413.300</td>\n",
       "      <td>1546</td>\n",
       "      <td>존 내시의 게임이론으로 살펴본 인간본성의 비밀 『호모루두스』. 깜짝 놀랄 만한 응용...</td>\n",
       "      <td>게임하는 인간 호모루두스 존 내시의 게임이론으로 살펴본 인간본성의 비밀   존 내...</td>\n",
       "      <td>2</td>\n",
       "    </tr>\n",
       "    <tr>\n",
       "      <th>3</th>\n",
       "      <td>9788996569404</td>\n",
       "      <td>마음하는 아우야! :법정스님 편지</td>\n",
       "      <td>[법정 지음] ;박성직 엮음</td>\n",
       "      <td>녹야원</td>\n",
       "      <td>http://image.aladin.co.kr/product/1143/83/cov...</td>\n",
       "      <td>2011</td>\n",
       "      <td>220.990</td>\n",
       "      <td>2099</td>\n",
       "      <td>법정스님의 친필 편지를 담은 책『마음하는 아우야!』. 이 책은 법정스님이 출가를 결...</td>\n",
       "      <td>마음하는 아우야 법정스님 편지 법정스님의 친필 편지를 담은 책마음하는 아우야 이 ...</td>\n",
       "      <td>3</td>\n",
       "    </tr>\n",
       "    <tr>\n",
       "      <th>4</th>\n",
       "      <td>9788990611727</td>\n",
       "      <td>조선왕실의 보물 의궤</td>\n",
       "      <td>글: 유지현 ;그림: 이장미</td>\n",
       "      <td>토토북</td>\n",
       "      <td>http://image.aladin.co.kr/product/341/85/cove...</td>\n",
       "      <td>2009</td>\n",
       "      <td>911.050</td>\n",
       "      <td>18187</td>\n",
       "      <td>조선시대 왕실의 행사를 꼼꼼히 기록한 책, 의궤! 정조 임금님 시대의 왕실 엿보기 ...</td>\n",
       "      <td>조선왕실의 보물 의궤 조선시대 왕실의 행사를 꼼꼼히 기록한 책 의궤 정조 임금님 ...</td>\n",
       "      <td>4</td>\n",
       "    </tr>\n",
       "    <tr>\n",
       "      <th>...</th>\n",
       "      <td>...</td>\n",
       "      <td>...</td>\n",
       "      <td>...</td>\n",
       "      <td>...</td>\n",
       "      <td>...</td>\n",
       "      <td>...</td>\n",
       "      <td>...</td>\n",
       "      <td>...</td>\n",
       "      <td>...</td>\n",
       "      <td>...</td>\n",
       "      <td>...</td>\n",
       "    </tr>\n",
       "    <tr>\n",
       "      <th>10013</th>\n",
       "      <td>9788926390627</td>\n",
       "      <td>자백 :노나미 아사 소설</td>\n",
       "      <td>지은이: 노나미 아사 ;옮긴이: 이춘신</td>\n",
       "      <td>서울문화사</td>\n",
       "      <td>http://image.aladin.co.kr/product/1144/70/cov...</td>\n",
       "      <td>2011</td>\n",
       "      <td>833.600</td>\n",
       "      <td>3590</td>\n",
       "      <td>나오키 상 수상작가 노나미 아사의 연작 경찰소설 『자백』. 1965년부터 1985년...</td>\n",
       "      <td>자백 노나미 아사 소설 나오키 상 수상작가 노나미 아사의 연작 경찰소설 자백 년부...</td>\n",
       "      <td>9995</td>\n",
       "    </tr>\n",
       "    <tr>\n",
       "      <th>10014</th>\n",
       "      <td>9788965700449</td>\n",
       "      <td>I, Steve :스티브 잡스 어록</td>\n",
       "      <td>지은이: 스티브 잡스 ;옮긴이: 이지윤</td>\n",
       "      <td>쌤앤파커스</td>\n",
       "      <td>https://bookthumb-phinf.pstatic.net/cover/067...</td>\n",
       "      <td>2011</td>\n",
       "      <td>325.040</td>\n",
       "      <td>4243</td>\n",
       "      <td>스티브잡스 어록 『I Steve』. 이 책은 세계 IT 업계의 거목이자, 전 애플 ...</td>\n",
       "      <td>스티브 잡스 어록 스티브잡스 어록   이 책은 세계  업계의 거목이자 전 애플...</td>\n",
       "      <td>9996</td>\n",
       "    </tr>\n",
       "    <tr>\n",
       "      <th>10015</th>\n",
       "      <td>9788980195190</td>\n",
       "      <td>물총새의 색깔 나들이</td>\n",
       "      <td>미셀 피크말 글;강금희 옮김</td>\n",
       "      <td>여명미디어</td>\n",
       "      <td>http://image.aladin.co.kr/product/22/51/cover...</td>\n",
       "      <td>2000</td>\n",
       "      <td>808.300</td>\n",
       "      <td>5594</td>\n",
       "      <td>암소 당딘느와 물총새 마르탱의 색깔 나들이를 아름답게 그린 유아용 그림동화책. 암소...</td>\n",
       "      <td>물총새의 색깔 나들이 암소 당딘느와 물총새 마르탱의 색깔 나들이를 아름답게 그린 ...</td>\n",
       "      <td>9997</td>\n",
       "    </tr>\n",
       "    <tr>\n",
       "      <th>10016</th>\n",
       "      <td>9788955616286</td>\n",
       "      <td>왜 종교는 과학이 되려 하는가 :창조론이 과학이 될 수 없는 16가지 이유</td>\n",
       "      <td>리처드 도킨스 외 지음 ;김명주 옮김</td>\n",
       "      <td>바다출판사</td>\n",
       "      <td>https://bookthumb-phinf.pstatic.net/cover/067...</td>\n",
       "      <td>2012</td>\n",
       "      <td>231.177</td>\n",
       "      <td>3660</td>\n",
       "      <td>지적 설계론이 과학이 될 수 없는 16가지 이유『왜 종교는 과학이 되려 하는가』. ...</td>\n",
       "      <td>왜 종교는 과학이 되려 하는가 창조론이 과학이 될 수 없는 가지 이유 지적 설계론...</td>\n",
       "      <td>9998</td>\n",
       "    </tr>\n",
       "    <tr>\n",
       "      <th>10017</th>\n",
       "      <td>9788979197389</td>\n",
       "      <td>역사의 등불 사마천, 피로 쓴 사기</td>\n",
       "      <td>김영수 지음</td>\n",
       "      <td>창해</td>\n",
       "      <td>http://image.aladin.co.kr/product/84/91/cover...</td>\n",
       "      <td>2006</td>\n",
       "      <td>912.030</td>\n",
       "      <td>2279</td>\n",
       "      <td>사마천과『사기』의 근원을 연구한 책. 사마천에 대한 남다른 애정과 연구로 외국인 최...</td>\n",
       "      <td>역사의 등불 사마천 피로 쓴 사기 사마천과사기의 근원을 연구한 책 사마천에 대한 ...</td>\n",
       "      <td>9999</td>\n",
       "    </tr>\n",
       "  </tbody>\n",
       "</table>\n",
       "<p>10000 rows × 11 columns</p>\n",
       "</div>"
      ],
      "text/plain": [
       "                ISBN                                           bookName  \\\n",
       "0      9788993499599   (동화작가 조성자의) 엄마표 독서토론논술 :내 아이의 미래를 결정짓는 독서 교육의...   \n",
       "1      9788991998278              개미, 공룡의 샅바를 잡다! :왕초보를 위한 기술적 분석의 모든 것   \n",
       "2      9788957075029   (게임하는 인간) 호모루두스 =존 내시의 게임이론으로 살펴본 인간본성의 비밀 /H...   \n",
       "3      9788996569404                                 마음하는 아우야! :법정스님 편지   \n",
       "4      9788990611727                                        조선왕실의 보물 의궤   \n",
       "...              ...                                                ...   \n",
       "10013  9788926390627                                      자백 :노나미 아사 소설   \n",
       "10014  9788965700449                                I, Steve :스티브 잡스 어록   \n",
       "10015  9788980195190                                        물총새의 색깔 나들이   \n",
       "10016  9788955616286          왜 종교는 과학이 되려 하는가 :창조론이 과학이 될 수 없는 16가지 이유   \n",
       "10017  9788979197389                                역사의 등불 사마천, 피로 쓴 사기   \n",
       "\n",
       "                       authors publisher  \\\n",
       "0                       조성자 지음   조선에듀케이션   \n",
       "1                       김정환 지음     이레미디어   \n",
       "2       지은이: 톰 지그프리드 ;옮긴이: 이정국     자음과모음   \n",
       "3              [법정 지음] ;박성직 엮음       녹야원   \n",
       "4              글: 유지현 ;그림: 이장미       토토북   \n",
       "...                        ...       ...   \n",
       "10013    지은이: 노나미 아사 ;옮긴이: 이춘신     서울문화사   \n",
       "10014    지은이: 스티브 잡스 ;옮긴이: 이지윤     쌤앤파커스   \n",
       "10015          미셀 피크말 글;강금희 옮김     여명미디어   \n",
       "10016     리처드 도킨스 외 지음 ;김명주 옮김     바다출판사   \n",
       "10017                   김영수 지음        창해   \n",
       "\n",
       "                                            bookImageURL  publicationYear  \\\n",
       "0       http://image.aladin.co.kr/product/783/33/cove...             2010   \n",
       "1       http://image.aladin.co.kr/product/400/97/cove...             2009   \n",
       "2       http://image.aladin.co.kr/product/735/13/cove...             2010   \n",
       "3       http://image.aladin.co.kr/product/1143/83/cov...             2011   \n",
       "4       http://image.aladin.co.kr/product/341/85/cove...             2009   \n",
       "...                                                  ...              ...   \n",
       "10013   http://image.aladin.co.kr/product/1144/70/cov...             2011   \n",
       "10014   https://bookthumb-phinf.pstatic.net/cover/067...             2011   \n",
       "10015   http://image.aladin.co.kr/product/22/51/cover...             2000   \n",
       "10016   https://bookthumb-phinf.pstatic.net/cover/067...             2012   \n",
       "10017   http://image.aladin.co.kr/product/84/91/cover...             2006   \n",
       "\n",
       "       classNo  loanCnt                                        description  \\\n",
       "0       29.800     6312  아이의 미래를 위한 통합 독서 교육 이야기『동화작가 조성자의 엄마표 독토논』. 초등...   \n",
       "1      327.850     2062  주식시장, 제대로 파악하고 계십니까? 기술적 분석 모르고 주식시장에 뛰어들지 말라!...   \n",
       "2      413.300     1546  존 내시의 게임이론으로 살펴본 인간본성의 비밀 『호모루두스』. 깜짝 놀랄 만한 응용...   \n",
       "3      220.990     2099  법정스님의 친필 편지를 담은 책『마음하는 아우야!』. 이 책은 법정스님이 출가를 결...   \n",
       "4      911.050    18187  조선시대 왕실의 행사를 꼼꼼히 기록한 책, 의궤! 정조 임금님 시대의 왕실 엿보기 ...   \n",
       "...        ...      ...                                                ...   \n",
       "10013  833.600     3590  나오키 상 수상작가 노나미 아사의 연작 경찰소설 『자백』. 1965년부터 1985년...   \n",
       "10014  325.040     4243  스티브잡스 어록 『I Steve』. 이 책은 세계 IT 업계의 거목이자, 전 애플 ...   \n",
       "10015  808.300     5594  암소 당딘느와 물총새 마르탱의 색깔 나들이를 아름답게 그린 유아용 그림동화책. 암소...   \n",
       "10016  231.177     3660  지적 설계론이 과학이 될 수 없는 16가지 이유『왜 종교는 과학이 되려 하는가』. ...   \n",
       "10017  912.030     2279  사마천과『사기』의 근원을 연구한 책. 사마천에 대한 남다른 애정과 연구로 외국인 최...   \n",
       "\n",
       "                                                    text    ID  \n",
       "0       동화작가 조성자의 엄마표 독서토론논술 내 아이의 미래를 결정짓는 독서 교육의 모든...     0  \n",
       "1       개미 공룡의 샅바를 잡다 왕초보를 위한 기술적 분석의 모든 것 주식시장 제대로 파...     1  \n",
       "2       게임하는 인간 호모루두스 존 내시의 게임이론으로 살펴본 인간본성의 비밀   존 내...     2  \n",
       "3       마음하는 아우야 법정스님 편지 법정스님의 친필 편지를 담은 책마음하는 아우야 이 ...     3  \n",
       "4       조선왕실의 보물 의궤 조선시대 왕실의 행사를 꼼꼼히 기록한 책 의궤 정조 임금님 ...     4  \n",
       "...                                                  ...   ...  \n",
       "10013   자백 노나미 아사 소설 나오키 상 수상작가 노나미 아사의 연작 경찰소설 자백 년부...  9995  \n",
       "10014     스티브 잡스 어록 스티브잡스 어록   이 책은 세계  업계의 거목이자 전 애플...  9996  \n",
       "10015   물총새의 색깔 나들이 암소 당딘느와 물총새 마르탱의 색깔 나들이를 아름답게 그린 ...  9997  \n",
       "10016   왜 종교는 과학이 되려 하는가 창조론이 과학이 될 수 없는 가지 이유 지적 설계론...  9998  \n",
       "10017   역사의 등불 사마천 피로 쓴 사기 사마천과사기의 근원을 연구한 책 사마천에 대한 ...  9999  \n",
       "\n",
       "[10000 rows x 11 columns]"
      ]
     },
     "execution_count": 26,
     "metadata": {},
     "output_type": "execute_result"
    }
   ],
   "source": [
    "data"
   ]
  },
  {
   "cell_type": "code",
   "execution_count": 27,
   "metadata": {},
   "outputs": [],
   "source": [
    "from konlpy.tag import Okt"
   ]
  },
  {
   "cell_type": "code",
   "execution_count": 28,
   "metadata": {},
   "outputs": [],
   "source": [
    "okt = Okt()\n",
    "t_d = []\n",
    "for i in data['words']:\n",
    "    provisional = okt.morphs(i, stem=True) \n",
    "    provisional = [word for word in provisional if not word in stop] \n",
    "    t_d.append(provisional)"
   ]
  },
  {
   "cell_type": "code",
   "execution_count": 29,
   "metadata": {},
   "outputs": [],
   "source": [
    "from gensim.models import Word2Vec\n",
    "w2v_model = Word2Vec(sentences = t_d, size = 300, window =5, sg = 1)"
   ]
  },
  {
   "cell_type": "code",
   "execution_count": 15,
   "metadata": {},
   "outputs": [],
   "source": [
    "data.to_excel('C:/Users/Gee/Documents/카카오톡 받은 파일/datafinal22.xlsx')"
   ]
  },
  {
   "cell_type": "code",
   "execution_count": 16,
   "metadata": {},
   "outputs": [],
   "source": [
    "data = pd.read_excel('C:/Users/Gee/Documents/카카오톡 받은 파일/dataexcercise.xlsx')"
   ]
  },
  {
   "cell_type": "code",
   "execution_count": 30,
   "metadata": {},
   "outputs": [],
   "source": [
    "def get_ISBN(index):\n",
    "    return data[data.ID ==index][\"ISBN\"].values[0]\n",
    "\n",
    "def recommend(data_id, sim_mat):\n",
    "    r_list = list()\n",
    "    likeness =  list(enumerate(sim_mat[data_id]))\n",
    "    arranged_likeness = sorted(likeness,key=lambda x:x[1],reverse=True)\n",
    "    \n",
    "    for i in range(20): \n",
    "        ISBN = get_ISBN(arranged_likeness[i][0])\n",
    "        r_list.append(ISBN)\n",
    "            \n",
    "    return r_list\n",
    "\n"
   ]
  },
  {
   "cell_type": "code",
   "execution_count": 31,
   "metadata": {},
   "outputs": [],
   "source": [
    "from sklearn.metrics.pairwise import cosine_similarity"
   ]
  },
  {
   "cell_type": "code",
   "execution_count": 32,
   "metadata": {},
   "outputs": [],
   "source": [
    "from sklearn.feature_extraction.text import CountVectorizer\n",
    "Bag_of_words = CountVectorizer()\n",
    "Bag_of_words_mat = Bag_of_words.fit_transform(data[\"words\"])"
   ]
  },
  {
   "cell_type": "code",
   "execution_count": 33,
   "metadata": {},
   "outputs": [],
   "source": [
    "import pickle"
   ]
  },
  {
   "cell_type": "code",
   "execution_count": 21,
   "metadata": {},
   "outputs": [],
   "source": [
    "with open('C:/Users/Gee/Documents/카카오톡 받은 파일/Bag_of_words_matexcercise.pkl', 'wb') as f:\n",
    "    pickle.dump(Bag_of_words_mat, f)"
   ]
  },
  {
   "cell_type": "code",
   "execution_count": 22,
   "metadata": {},
   "outputs": [],
   "source": [
    "with open('C:/Users/Gee/Documents/카카오톡 받은 파일/Bag_of_words_matexcercise.pkl', 'rb') as f:\n",
    "    Bag_of_words_mat = pickle.load(f)"
   ]
  },
  {
   "cell_type": "code",
   "execution_count": 34,
   "metadata": {},
   "outputs": [],
   "source": [
    "Bag_of_words_cosine_sim = cosine_similarity(Bag_of_words_mat)"
   ]
  },
  {
   "cell_type": "code",
   "execution_count": 35,
   "metadata": {},
   "outputs": [],
   "source": [
    "import openpyxl"
   ]
  },
  {
   "cell_type": "code",
   "execution_count": 25,
   "metadata": {},
   "outputs": [],
   "source": [
    "wb0 = openpyxl.Workbook()\n",
    "sheet = wb0.active\n",
    "for i in range(10): \n",
    "    sheet.append(recommend(i, Bag_of_words_cosine_sim))\n",
    "\n",
    "wb0.save(\"C:/Users/Gee/Documents/카카오톡 받은 파일/Bag_of_wordsexcercise.xlsx\")"
   ]
  },
  {
   "cell_type": "code",
   "execution_count": 36,
   "metadata": {},
   "outputs": [
    {
     "name": "stdout",
     "output_type": "stream",
     "text": [
      "[' (동화작가 조성자의) 엄마표 독서토론논술 :내 아이의 미래를 결정짓는 독서 교육의 모든 것', ' (초등 1~2학년 교과서 잡는) 엄마표 독서 놀이', ' 독서 교육론 독서 논술 지도론', ' 내 아이를 책의 바다로 이끄는 법', ' 초등학교 독서습관 평생을 좌우한다', ' 일독일행 독서법 :문제아를 국내 제일의 독서 컨설팅 CEO로 만든 기적의 독서 공부법', ' (내 아이의 미래를 바꾸는) 기적의 질문법 :작지만 큰 변화를 주는 엄마의 한마디', ' 진로교육, 아이의 미래를 멘토링하다', ' (21세기 글로벌 인재를 키우는) 다산의 독서 전략', ' 독서 잘하는 아이가 무조건 대성한다', ' 아이의 행복을 위해 부모는 무엇을 해야 할까 :아이의 행복과 성적 사이에서 갈등하는 부모들을 위한 해답', ' 우리아이 독서왕으로 만드는 7가지 비결 :자녀 독서습관은 부모로부터 시작 된다!', ' (아이의 미래를 바꾸는) 슬로 리딩 =Slow reading', ' 독서 천재가 된 홍 팀장 :실행력을 높이는 기적의 독서 솔루션', ' 독서 논술왕', ' (13세 전에 시작하는) 엄마표 독서육아', ' (똑똑한 내 아이를 위한) 미술치료 쉽게 하기', ' 세상에서 가장 시원한 선물', ' 청소년 독서 콘서트 :최상위권으로 가는 독서·토론·독후감 비법 36', ' 닐스의 신기한 모험=(The)wonderful adventures of Nils']\n",
      "\n",
      "[' 개미, 공룡의 샅바를 잡다! :왕초보를 위한 기술적 분석의 모든 것', ' 차트의 기술:한 권으로 읽는 기술적 분석의 모든 것', ' (원칙을 지키는) 주식 고수들의 투자법 :주식시장에서 흔들리는 개미들을 위한 투자격언 60', ' (2018) 트렌드를 알면 주식 투자가 보인다 :4차 산업혁명시대와 투자의 미래', ' Why? 살아 있는 화석', ' 위대한 투자자들의 12가지 투자 전략', ' 나를 위한 1분 :1분으로 완성하는 자기혁명', ' 지울 수 없는 생명:낙태반대운동을 위한 59가지 지침', ' (주식투자의 삼파전)주식 삼국지', ' 세상을 여행하는 초심자를 위한 안내서 :방황하는 당신에게 꼭 필요한 필수 심리실용서', ' 똑똑 경제 이야기를 들려줄게 :금융가 엄마가 쏜다!', ' 대통령을 위한 물리학 :10년 후 세계를 움직일 5가지 과학 코드', ' (백만장자 선생님의) 부자 수업 :통장을 스쳐가는 월급을 지켜내고 목돈으로 키우는 재테크 비법!', ' 詩論', ' 수줍음과 사회불안의 극복:대인공포증과 발표불안, 면접불안, 수행불안의 자가치료', ' (1천만 원으로 시작하는) 빌라 투자 비법 :왜, 나는 다들 말리는 빌라에 투자하는가?', ' 인생 성공을 위한 대인관계법 :성공하는 사람의 멘토 - 데일카네기', ' 워렌 버핏', ' 돼지들에게:최영미 시집', ' Money :money is game. master the game!']\n",
      "\n",
      "[' (게임하는 인간) 호모루두스 =존 내시의 게임이론으로 살펴본 인간본성의 비밀 /Homo ludus', ' 생로병사의 비밀=Misteries of the human body', ' 비밀 귀신', ' 새콤달콤 비밀 약속 :김미애 동화', ' 인간 없는 세상', ' 내 인생을 변화시키는 좋은 생각:아우렐리우스의 인생의 법칙 150', ' 비밀이야 비밀', ' (탁월함에 이르는) 노트의 비밀 :인류 역사상 가장 뛰어난 천재들의 노트', ' 전쟁의 늪 :박은우 장편소설', ' 몸은 알고 있다:질병은 치유와 깨달음으로 향하는 가능성이며 길이다', ' 지혼식', ' 어쩌면 다음 생에 =Not in this life, maybe the next', ' 이타적 인간의 출현 :게임이론으로 푸는 인간 본성 진화의 수수께끼', ' 명령하는 뇌, 착각하는 뇌 :당신의 행동을 지배하는 뇌의 두 얼굴', ' C++ STL 실전 프로그래밍', ' 뉴턴의 비밀', ' (인생을 움직이는)천년의 철학', ' 안철수의 생각 :우리가 원하는 대한민국의 미래 지도', ' 종의 마음 :위대함에 이르는 하나님의 비밀', ' (피타고라스도 모르는) 수의 비밀']\n",
      "\n",
      "[' 마음하는 아우야! :법정스님 편지', ' 책, 세상을 탐하다 :우리시대 책벌레 29인의 조용하지만 열렬한 책 이야기', ' 패셔넬라', ' Oracle9i PLSQL programming', ' 디오판토스가 들려주는 방정식 이야기', ' (더 많은 선택과 여유로움을 위한)최고의 협상=Essential of negotiation', ' 임제록 :종광 스님 강설', ' 부자는 부자 끼리만 논다', ' 슬플 때도 있는 거야:사랑하는 사람의 죽음을 겪은 아이들을 위한 책', ' 공부가 된다', ' 보호기도 :시편 91편을 부르짖을 때 임하는 전능자의 강력한 보호하심', ' (Say say say) 여행 :영어 말하기 프로그램', ' Adobe acrobat 6.0 standard:classroom in a book', ' 무위무불위 =Do nothing & do everything', ' 이태원에서 세계를 만나다 =Itawon : gateway to the world', ' 뼈뼈 동물원', ' (필립 코틀러가 말하는) 마케팅의 10가지 치명적 실수 :그 징후와 해결책', ' 왓슨이 들려주는 DNA 이야기', ' 갖고 싶은게 너무나 많은 인생을 위하여 :미처 탐구되지 않았던 쇼핑에 대한 뜻밖의 기록', ' I, Steve :스티브 잡스 어록']\n",
      "\n",
      "[' 조선왕실의 보물 의궤', ' 조선 왕실 기록문화의 꽃, 의궤', ' 아이고, 오줌 마려워', ' 대구 이야기:세계 역사를 바꾼 물고기', ' (문화 유적 따라 읽는) 중국사', ' 조선시대 포도청에 가다', ' (꽉잡아 논술!) 사회과 탐구와 논술이 딱! 만났다:교과서 속으로 떠나는 논술여행', ' 뿡, 너 방귀 뀌었지?', ' 징비록, 류성룡의 28원칙 :류성룡의 삶의 원칙을 통해 미래를 준비한다', ' 일러스트, 그리고 완성하다 :천소의 특별한 그림 구성 훈련법', ' 문화로 보는 우리 역사', ' 우리 한옥에 숨은 과학', ' (테마로 보는 우리 역사) 한국사 탐험대', ' 우리 악기에는 어떤 이야기가 담겨 있을까?', ' 한국 속의 세계:우리는 어떻게 세계와 소통해왔는가', ' 모양나라의 심술꾸러기:부분과 전체도형', ' 하나, 둘, 셋! 무얼 세니?:숫자 세기서수', ' 목요일의 그림 :일주일에 그림 하나, 행복한 일상을 위한 특별한 그림 선물', ' (한 권으로 보는) 그림 한국사 백과', ' (K-IFRS) 중급 재무회계 해답 =Intermediate accounting']\n",
      "\n",
      "[' 베이킹 소다 활용 지혜:집 안이 반짝반짝! 상쾌한 하루하루!', ' 베이킹 소다 활용법 A to Z =Surprising uses for baking soda', ' (깐깐한 에코맘의) 친환경 베이킹소다 살림법', \" (똑똑한 여우들의) 영양만점 홈베이킹 =Home baking : a smart foxes' full nutrition\", ' (쿡앤북의) 달콤한 자연식 베이킹 :No 버터! No 에그!', ' Windows XP:기초부터 네트워크 활용까지', ' (사전처럼 바로 찾아 쓰는) jQuery', ' (참 쉬운 빵&쿠키) 파란달의 빵타지아', ' 뇌경색 :내 몸이 보내는 마지막 경고', ' 예쁜 소품 만들기:원우맘과 함께 하는 감성 폴~폴~', ' 온 세상이 반짝반짝', ' (대한민국 건치 성인남녀를 위한) 치아건강 프로젝트', ' 열려라 남대문학교 :600년 전통의 숭례문 이야기', ' Twitter 무작정 따라하기 :인맥 관리, 스마트폰 활용, 기업 홍보까지', ' (써니브레드의) 글루텐프리 홈베이킹 =Gluten free home baking', ' 연극분석입문', ' (Spring, Hibernate, MyBatis를 활용한) all-in-one JAVA 애플리케이션 개발 :전자정부 표준 프레임워크 핵심 기', ' (영화보다 생생한 웹사이트를 위한)Flash MX:新한권으로 끝내기', ' (동영상과 실무 예제로 쉽게 배우는) 스케치업 2016 & V-Ray', ' (속전속결)C언어:빠르고 쉽게 배우는 속전속결 C언어']\n",
      "\n",
      "[' 반야심경 :반야심경 해설집', ' 반야심경 :신학을 전공한 휴머니스트 이윤기가 가슴으로 옮긴 불교 이야기', ' 창의력 :옆집에 수상한 할머니가 이사 왔다', ' 건축, 생활 속에 스며들다 :생활속에 배어있는 건축상식', ' 리더십 :앗! 이상한 반장을 뽑았다', ' (현대심리학으로 풀어본)대승기신론', ' 옛 그림 속에 숨은 문화유산 찾기 :교과서에 나오는 우리 그림 32점으로 본 유물과 풍습', ' 이판사판 화엄경', ' 스피치의 신神 =성공의 핵심 전략, 파워 스피치 마스터 /Power speech master', ' 패셔넬라', ' (필립 코틀러가 말하는) 마케팅의 10가지 치명적 실수 :그 징후와 해결책', ' 배려 :왕따 유정이를 잡아라!', ' 민사소송에서 강제집행까지:사례보면서 따라하기', ' 열정 :빤쓰맨과 이상한 나라로 출발!', ' 질투는 나의 힘', ' 아이 투 아이:감각의 눈·이성의 눈·관조의 눈', ' 글쓰기부터 바꿔라 :설렘과 행복이 가득한 글쓰기의 비밀', ' 꿈꾸는 보리빵', ' (21세기) 지식 키워드 100', ' 고무 따라 역사 여행 :아마존에서 조선까지']\n",
      "\n",
      "[' P교수의 엽기 연구실 :꽉 막힌 아이디어를 뚫어주는 책', ' 나는 무슨 씨앗일까?', ' 청춘 경영 :지식생태학자 유영만 교수의 꿈과 현실을 이어주는 7가지 생각법', ' 할머니 어디 가요? 굴 캐러 간다! :옥이네 겨울 이야기', ' (서울대 이태진 교수의 동경대생들에게 들려준)한국사:메이지 일본의 한국 침략사', ' 회색 생쥐 마을의 공포', ' 이솝 우화집', ' 도망치지 마 미하루 씨', ' 왜 나는 법을 공부하는가 :서울대 교수 조국의 내가 공부하는 이유', ' Why? 새 - 2판', ' 나는 스물아홉 살 반 :D[di: ] 장편소설', ' 공갈젖꼭지야, 잘 가!', ' 장미 비파 레몬', ' 바닷가에 놀러 갔어요', ' 얼음 낚시는 즐거워', ' 영차영차 고구마 캐기 대회', ' (OK-easy 강의록)일러스트레이터 10=Illustrator 10', ' (초등학생을 위한) 부엌에서 하는 깜짝 실험 66가지', ' 스마일', ' 판스워스 교수의 생물학 강의']\n",
      "\n",
      "[' 소설 제주', ' 나, 여기 있어', ' Why? 살아 있는 화석', ' 소설 창작의 길라잡이', ' 나의 집', ' 갑자서당 :사주명리 한자교실', ' (초등학생을 위한) 부엌에서 하는 초간단 실험 60가지', ' 캐릭터 소설 쓰는 법:살아 있는 캐릭터 만들기', ' 이상한 나라의 경제학 =Economic adventures in wonderland', ' 전세살면서 부동산 투자하기', ' Head first HTML5 programming :웹 표준으로 만드는 생동감 있는 웹 애플리케이션', ' (심심쟁이 아이를 위한) 놀이의 반란 :4~7세 하루 20분, 체험·독서·교구·바깥놀이로 행복한 영재 만들기', ' 아이 몸에 독이 쌓이고 있다 :생활 속 독성물질로부터 안심하고 아이를 키우기 위한 유해물질 가이드 & 쉽고 간단한 해독습관', ' 돼지들에게:최영미 시집', ' 모래알 고금 :마해송 장편 동화', ' 느린 희망=지속가능한 사회를 향해 인간의 걸음으로 천천히/Esperanza lenta', ' 아이의 회복탄력성 :시련과 실패에 강한 아이로 만드는 힘', ' 끊임없는 강박사고와 행동 치유하기', ' 즐거운 세포', ' 2020 부의 전쟁 in Asia =2020 wealth war in Asia']\n",
      "\n",
      "[' (모든 영역에 필요한 프랑스어 어휘 수록)프랑스어 테마별 어휘집', ' 사회가 재밌어지는 3학년 맞춤경제', ' (즉석에서 활용하는) 자유자재 여행 프랑스어', ' (가장 쉬운) 터키어 첫걸음의 모든 것', ' 돈의 비밀 :돈으로 읽는 세계 경제 이야기', ' 노인복지론=Welfare for the aged', ' 우리 동네에는 아파트가 없다', ' (아름다운 건축 인간이 꿈꾸는 도시) 건축이 그려내는 도시', ' (삶의 모든 변화를 위한) 첫 30일', ' 살아 있는 모든 것은 :어린이에게 들려주는 생명의 시작과 끝에 대한 이야기', ' 史記 :상상할 수 있는 모든 인간의 백과사전', ' 경제학 무작정 따라하기', ' 경제 상식사전 =경제뉴스가 말랑말랑해지는 핵심 키워드 153! /Common sense dictionary of economy', ' (잘 풀리는) TEPS voca', ' 우리 몸속 이야기', ' 우리 협상하자! :원하는 것을 얻어 내는 대화의 힘', ' 당신이 경제학자라면 :고장 난 세상에 필요한 15가지 질문', ' (김구라♥김동현 부자의) 부자경제교실 :초등 사회 교과서와 생활 경제 중심', ' (청소년을 위한) 1010 경제학 :중고등 교과서 속 경제 개념을 꽤뚫는 10가지 질문과 10가지 답', ' 조선시대 산수화, 아름다운 필묵의 정신사']\n",
      "\n"
     ]
    }
   ],
   "source": [
    "for i in range(10):\n",
    "    print(recommend(i, Bag_of_words_cosine_sim))\n",
    "    print()"
   ]
  },
  {
   "cell_type": "code",
   "execution_count": 37,
   "metadata": {},
   "outputs": [],
   "source": [
    "from sklearn.feature_extraction.text import TfidfVectorizer\n",
    "tf_idf = TfidfVectorizer()\n",
    "tf_idf_mat = tf_idf.fit_transform(data[\"words\"])"
   ]
  },
  {
   "cell_type": "code",
   "execution_count": 28,
   "metadata": {},
   "outputs": [],
   "source": [
    "with open('C:/Users/Gee/Documents/카카오톡 받은 파일/tf_idf_matexcercise.pkl', 'wb') as f:\n",
    "    pickle.dump(tf_idf_mat, f)"
   ]
  },
  {
   "cell_type": "code",
   "execution_count": 29,
   "metadata": {},
   "outputs": [],
   "source": [
    "with open('C:/Users/Gee/Documents/카카오톡 받은 파일/tf_idf_matexcercise.pkl', 'rb') as f:\n",
    "    tf_idf_mat = pickle.load(f)"
   ]
  },
  {
   "cell_type": "code",
   "execution_count": 38,
   "metadata": {},
   "outputs": [],
   "source": [
    "tf_idf_cosine_sim = cosine_similarity(tf_idf_mat)"
   ]
  },
  {
   "cell_type": "code",
   "execution_count": 40,
   "metadata": {},
   "outputs": [],
   "source": [
    "wb1 = openpyxl.Workbook()\n",
    "sheet = wb1.active\n",
    "for i in range(10):\n",
    "    sheet.append(recommend(i, tf_idf_cosine_sim))\n",
    "\n",
    "wb1.save(\"C:/Users/Gee/Documents/카카오톡 받은 파일/tf_idfexcercjse10.xlsx\")"
   ]
  },
  {
   "cell_type": "code",
   "execution_count": 41,
   "metadata": {},
   "outputs": [
    {
     "name": "stdout",
     "output_type": "stream",
     "text": [
      "[' (동화작가 조성자의) 엄마표 독서토론논술 :내 아이의 미래를 결정짓는 독서 교육의 모든 것', ' (초등 1~2학년 교과서 잡는) 엄마표 독서 놀이', ' 독서 교육론 독서 논술 지도론', ' 초등학교 독서습관 평생을 좌우한다', ' (말하기·쓰기 능력을 끌어올리는 새벽달의) 엄마표 영어 17년 실전노트', ' (13세 전에 시작하는) 엄마표 독서육아', ' 일독일행 독서법 :문제아를 국내 제일의 독서 컨설팅 CEO로 만든 기적의 독서 공부법', ' (내 아이의 미래를 바꾸는) 기적의 질문법 :작지만 큰 변화를 주는 엄마의 한마디', ' 청소년 독서 콘서트 :최상위권으로 가는 독서·토론·독후감 비법 36', ' 우리아이 독서왕으로 만드는 7가지 비결 :자녀 독서습관은 부모로부터 시작 된다!', ' (8살 이전의 자존감이) 평생 행복을 결정한다', ' 잠수네 초등 5, 6학년 공부법', ' 내 아이를 책의 바다로 이끄는 법', \" 집 없는 아이=Nobody's boy\", ' 독서 천재가 된 홍 팀장 :실행력을 높이는 기적의 독서 솔루션', ' 아이의 행복을 위해 부모는 무엇을 해야 할까 :아이의 행복과 성적 사이에서 갈등하는 부모들을 위한 해답', ' 닐스의 신기한 모험=(The)wonderful adventures of Nils', ' 독서 논술왕', ' 독서 잘하는 아이가 무조건 대성한다', ' 아라비안나이트']\n",
      "\n",
      "[' 개미, 공룡의 샅바를 잡다! :왕초보를 위한 기술적 분석의 모든 것', ' 차트의 기술:한 권으로 읽는 기술적 분석의 모든 것', ' (원칙을 지키는) 주식 고수들의 투자법 :주식시장에서 흔들리는 개미들을 위한 투자격언 60', ' (주식투자의 삼파전)주식 삼국지', ' 3일만에 주식 프로가 되는 책', ' (꼬마 개미) 가우스의 숫자여행 :초등학교 1학년을 위한 스토리텔링 수학', ' 나는 집에서 구글 주식을 사고 두바이 원유를 판다 :국내 HTS로 실행하는 해외 증권·원자재 투자 가이드', ' 주식, 뉴스로 보는 대박의 기술 =애널리스트들이 절대 공개하지 않는 뉴스 리딩/Get the know-how to be great succes', ' 위대한 투자자들의 12가지 투자 전략', ' (2018) 트렌드를 알면 주식 투자가 보인다 :4차 산업혁명시대와 투자의 미래', ' 개미가 고맙다고 했어', ' 나는 하루 1시간 주식투자로 연봉번다 =반드시 수익 내는 주식투자 3단계 원칙 /Stock market investment for 1 hour', ' (마음을 읽어주는) 유쾌한 남녀 대화법', ' (新) 주식 용어 사전 :주식의 첫걸음', ' 똑똑 경제 이야기를 들려줄게 :금융가 엄마가 쏜다!', ' 매직넘버 33', ' (허영만의) 3천만원 :왕초보 허영만의 주식투자 도전기', ' 주식을 사려면 마트에 가라! :투자수익률 774% 세계 1위의 개인투자자가 말한다', ' 헤지펀드 시장의 마법사들 :주식, 선물옵션, 상품, 외환시장의 전설적 트레이더 15인의 통찰력과 전략!', ' 수익률의 새빨간 거짓말 :바닥에서도 살아남는 이기는 투자의 기술']\n",
      "\n",
      "[' (게임하는 인간) 호모루두스 =존 내시의 게임이론으로 살펴본 인간본성의 비밀 /Homo ludus', ' 이타적 인간의 출현 :게임이론으로 푸는 인간 본성 진화의 수수께끼', ' 비밀 귀신', ' 새콤달콤 비밀 약속 :김미애 동화', ' (神算 金用淵의) 六爻新講 :육효의 현대적 해석과 예문·괘풀이', ' 하버드 교양 강의 :하버드생들은 무엇을 배우는가?', ' (피타고라스도 모르는) 수의 비밀', ' (탁월함에 이르는) 노트의 비밀 :인류 역사상 가장 뛰어난 천재들의 노트', ' 미스터리 한국사', ' 인간 없는 세상', ' (CCIE를 꿈꾸는 네트워크 전문가를 위한)IP 라우팅 프로토콜', ' 아이디어로 인생을 바꿔라 :작은 발상으로 특허 대박 터뜨리기', ' (초보자를 위한)Linux & unix C 프로그래밍', ' (실전 예제 프로젝트로 배우는) ASP.NET 2.0 웹 프로그래밍 :ASP.NET 완벽 가이드북', ' 비밀이야 비밀', ' 세계 명가의 비밀', ' 모두 깜짝', ' Windows XP:기초부터 네트워크 활용까지', ' 게임이론의 사고법 =비즈니스와 인생을 바꾸는 전략 발상의 기술 /How to think like a game theorist', ' 가장 인간적인 인간']\n",
      "\n",
      "[' 마음하는 아우야! :법정스님 편지', ' 임제록 :종광 스님 강설', ' 일기일회', ' 정진:행복을 부르는 힘', ' (법정 스님의) 아름다운 무소유', ' 선재 스님의 이야기로 버무린 사찰음식 :선재 스님의 약보다 좋은 사찰음식 이야기', ' 새들이 떠나간 숲은 적막하다', ' 나를 치유하는 산사기행', ' 위빠싸나, 있는 그대로 보는 지혜:깨어있는 삶의 행복', ' 그물에 걸리지 않는 바람처럼:숫타니파타 강론집', ' 한글 이름 사전 :우리말을 활용한 다채로운 이름 짓기의 세계', ' 그리움 :나는 나에게 그리움을 부친다', ' 길 위에서 :삶의 의미를 찾아 떠난 300일의 마음수업', ' (티베트 스님의) 노 프라블럼', ' 책, 세상을 탐하다 :우리시대 책벌레 29인의 조용하지만 열렬한 책 이야기', ' (과학자를 꿈꾸는 초등학생을 위한) 20인의 과학자 편지', ' 선방일기', ' 가야산 정진불 :혜암 큰스님 이야기', ' (청안스님의) 무엇을 도와드릴까요 :운명에 얽매이지 않고 자유롭게 사는 삶', ' 오래된 편지']\n",
      "\n",
      "[' 조선왕실의 보물 의궤', ' 조선 왕실 기록문화의 꽃, 의궤', ' 폭정의 역사 :중세 유럽 왕실의 비극과 광기의 역사', ' 조선시대 포도청에 가다', ' 정조와 철인정치의 시대 :이덕일 역사서', ' 꿈에 본 복숭아꽃 비바람에 떨어져', ' 국보와 보물 이야기', ' 조선의 왕실과 외척', ' 왕과 아들 :조선시대 왕위 계승사', ' 손뜨개 인형의 보물 :손뜨개로 동물인형과 그들의 보물 만들기', ' 목요일의 그림 :일주일에 그림 하나, 행복한 일상을 위한 특별한 그림 선물', ' 라캄의 보물', ' 서울로 보는 조선', ' (한 권으로 보는) 그림 한국사 백과', ' (어린이가 꼭 알아야 할) 세계의 유네스코 문화유산', ' 옛날 직업 이야기', ' 대구 이야기:세계 역사를 바꾼 물고기', ' 한 폭의 한국사 :우리 그림 보며 한국사 나들이', ' 침실 권력', ' 옛 그림 속에 숨은 문화유산 찾기 :교과서에 나오는 우리 그림 32점으로 본 유물과 풍습']\n",
      "\n",
      "[' 베이킹 소다 활용 지혜:집 안이 반짝반짝! 상쾌한 하루하루!', ' 베이킹 소다 활용법 A to Z =Surprising uses for baking soda', ' (깐깐한 에코맘의) 친환경 베이킹소다 살림법', \" (똑똑한 여우들의) 영양만점 홈베이킹 =Home baking : a smart foxes' full nutrition\", ' (쿡앤북의) 달콤한 자연식 베이킹 :No 버터! No 에그!', ' 온 세상이 반짝반짝', ' (참 쉬운 빵&쿠키) 파란달의 빵타지아', ' (써니브레드의) 글루텐프리 홈베이킹 =Gluten free home baking', ' 별난 정보 별난 사전:생활지혜 백과사전', ' Windows XP:기초부터 네트워크 활용까지', ' (초등학생을 위한) 부엌에서 하는 깜짝 실험 66가지', ' Twitter 무작정 따라하기 :인맥 관리, 스마트폰 활용, 기업 홍보까지', ' (마시기만 해도 살이 빠지는)생강홍차 다이어트', ' 반짝반짝 동물들', ' (처음부터 하나하나)HTML+Javascript:웹 프로그래밍', \" 박한별's 팁스토리 =Park Han Byul's Tip story\", ' 반짝반짝 안경', ' 20대에게 콕 짚어주는 부자되는 생활의 개념', ' (사전처럼 바로 찾아 쓰는) HTML5 핵심 API', ' (실무자를 위한)PHP 함수 레퍼런스=Hypertext preprocessor function reference']\n",
      "\n",
      "[' 반야심경 :반야심경 해설집', ' 반야심경 :신학을 전공한 휴머니스트 이윤기가 가슴으로 옮긴 불교 이야기', ' (살아있는 동안 꼭 읽어야 할) 부처님 말씀 108가지', ' 그물에 걸리지 않는 바람처럼:숫타니파타 강론집', ' 완전한 깨달음', ' 카리브 해 보물 탐사대', ' (비밀이 담긴)명화 이야기', ' (호크김의 예감적중)토익850:Reading comprehension', ' (성공한 사람들의) 관계의 법칙', ' (실전)영어 번역의 기술', ' 선심초심 :어떻게 선 수행을 할 것인가', ' 길 없는 길 :崔仁浩 장편소설', ' 돌로레스 클레이본', ' (어린이)팔만대장경', ' 빨간 꿈체통', ' 꿈꾸는 보리빵', ' 내가 안아 줄게', ' (와~) 컴퓨터&인터넷 언제 배웠어요?', ' 붓다, 나를 흔들다', ' (주말이 기다려지는) 행복한 걷기여행:대한민국 걷기 좋은 길 52 : 전국편']\n",
      "\n",
      "[' P교수의 엽기 연구실 :꽉 막힌 아이디어를 뚫어주는 책', ' Why? 새 - 2판', ' Why? 약물과 치료', ' (소설집) 무진장=(The)inn unlimited', ' 청춘 경영 :지식생태학자 유영만 교수의 꿈과 현실을 이어주는 7가지 생각법', ' (초등학생을 위한) 부엌에서 하는 깜짝 실험 66가지', ' 할머니 어디 가요? 굴 캐러 간다! :옥이네 겨울 이야기', ' Why? 물고기', ' Why? 날씨', ' (서울대 이태진 교수의 동경대생들에게 들려준)한국사:메이지 일본의 한국 침략사', ' 나는 무슨 씨앗일까?', ' 약은 독이다 :약을 쓰지 않는 약사가 처방하는 27가지 건강실천법', ' 스마일', ' Why? 전통과학', ' 도망치지 마 미하루 씨', ' Why? 미래과학', ' (생각하는 힘과 글쓰기 실력이 커지는) 1학년 행복한 동화읽기', ' 이지 고잉:노력하다 지친 당신에게', ' 왜 나는 법을 공부하는가 :서울대 교수 조국의 내가 공부하는 이유', ' 어린이 로마인 이야기 :하루아침에 이루어지지 않은 로마의 역사']\n",
      "\n",
      "[' 소설 제주', ' 소설 창작의 길라잡이', ' 제주 보헤미안 :자유로운 영혼 13인의 제주 정착 리얼 다큐', ' (Jeju) 나 홀로 제주 :제주에서 만난 길, 바다, 그리고 나', ' 제주에 살어리랏다 :소심한 도시인들의 놀멍 살멍 제주 이민 관찰기', ' (대한민국 여행자를 위한) 제주도 여행백서', ' (영어 소설 속 대화로 배우는) 소설 영어 회화', ' 여행이 아니면 알 수 없는 것들 :손미나의 사람, 여행', ' (주강현의) 제주도 이야기 :어린이 제주 인문서', ' (두 번째) 제주 올레 =The second time, Jeju Olle trail', ' 풍선은 어디로 날아갈까?:상상력이 커지는 기발한 이야기', ' 여러나라 이야기', ' 캐릭터 소설 쓰는 법:살아 있는 캐릭터 만들기', ' 굿바이 파라다이스 :강지영 소설', ' 러브톡톡', ' (세계 리더들의 10가지) 경제습관', ' Why? 지리와 지도', ' 이 책이 세상에 존재하는 이유:가쿠타 미쓰요 소설', ' 제주카페 :여유를 만나는 제주 힐링 여행', ' 위로의 디자인 =From. design']\n",
      "\n",
      "[' (모든 영역에 필요한 프랑스어 어휘 수록)프랑스어 테마별 어휘집', ' (즉석에서 활용하는) 자유자재 여행 프랑스어', ' 한자 공부 일기로 한다 :초등학생을 위한 주제별 한자 학습서', ' (New TOEIC) voca bank:실제문제 풍부한 뉴토익 어휘집', ' (잘 풀리는) TEPS voca', ' (Disney·Pixar) 카', ' 돈의 비밀 :돈으로 읽는 세계 경제 이야기', ' (누보 nouveau) 프랑스어 문법 =Grammaire at vocabulaire du Français', ' (아름다운 건축 인간이 꿈꾸는 도시) 건축이 그려내는 도시', ' 토익 어휘 경제적으로 끝내기', ' 중국문학사강의', ' 토익 Part 5 ·6 DB를 털어라:어휘편', ' (유형별 주제별로 정리한) JPT 한권으로 끝내기 voca', ' (All-in-one)CISSP certification:exam guide', ' 일본 지식 채널 =가보지 않아도 알 수 있는 일본의 모든 것 /日本知識チャンネル', ' 경제 상식사전 =경제뉴스가 말랑말랑해지는 핵심 키워드 153! /Common sense dictionary of economy', ' (삶의 모든 변화를 위한) 첫 30일', ' (청소년을 위한) 1010 경제학 :중고등 교과서 속 경제 개념을 꽤뚫는 10가지 질문과 10가지 답', ' 경제학 무작정 따라하기', ' (국어 실력을 높여 주는) 어휘 만화']\n",
      "\n"
     ]
    }
   ],
   "source": [
    "for i in range(10):\n",
    "    print(recommend(i, tf_idf_cosine_sim))\n",
    "    print()"
   ]
  },
  {
   "cell_type": "code",
   "execution_count": 42,
   "metadata": {},
   "outputs": [],
   "source": [
    "from gensim.models import Word2Vec\n",
    "from sklearn.decomposition import PCA\n",
    "from matplotlib import pyplot"
   ]
  },
  {
   "cell_type": "code",
   "execution_count": 43,
   "metadata": {},
   "outputs": [],
   "source": [
    "class MyTokenizer:\n",
    "    def __init__(self):\n",
    "        pass\n",
    "    \n",
    "    def fit(self, X, y=None):\n",
    "        return self\n",
    "    \n",
    "    def transform(self, X):\n",
    "        transformed_X = []\n",
    "        for document in X:\n",
    "            tokenized_doc = []\n",
    "            for sent in nltk.sent_tokenize(document):\n",
    "                tokenized_doc += nltk.word_tokenize(sent)\n",
    "            transformed_X.append(np.array(tokenized_doc))\n",
    "        return np.array(transformed_X)\n",
    "    \n",
    "    def fit_transform(self, X, y=None):\n",
    "        return self.transform(X)\n",
    "\n",
    "class AverageEmbedVect(object):\n",
    "    def __init__(self, word2vec):\n",
    "        self.word2vec = word2vec\n",
    "        # if a text is empty we should return a vector of zeros\n",
    "        # with the same dimensionality as all the other vectors\n",
    "        self.dim = len(word2vec.wv.syn0[0])\n",
    "\n",
    "    def fit(self, X, y=None):\n",
    "        return self\n",
    "\n",
    "    def transform(self, X):\n",
    "        X = MyTokenizer().fit_transform(X)\n",
    "        \n",
    "        return np.array([\n",
    "            np.mean([self.word2vec.wv[w] for w in words if w in self.word2vec.wv]\n",
    "                    or [np.zeros(self.dim)], axis=0)\n",
    "            for words in X\n",
    "        ])\n",
    "    \n",
    "    def fit_transform(self, X, y=None):\n",
    "        return self.transform(X)"
   ]
  },
  {
   "cell_type": "code",
   "execution_count": 44,
   "metadata": {},
   "outputs": [],
   "source": [
    "words_list = list(data.words)"
   ]
  },
  {
   "cell_type": "code",
   "execution_count": 45,
   "metadata": {},
   "outputs": [
    {
     "name": "stderr",
     "output_type": "stream",
     "text": [
      "[nltk_data] Downloading package punkt to\n",
      "[nltk_data]     C:\\Users\\Gee\\AppData\\Roaming\\nltk_data...\n",
      "[nltk_data]   Package punkt is already up-to-date!\n"
     ]
    },
    {
     "data": {
      "text/plain": [
       "True"
      ]
     },
     "execution_count": 45,
     "metadata": {},
     "output_type": "execute_result"
    }
   ],
   "source": [
    "import nltk\n",
    "nltk.download('punkt')"
   ]
  },
  {
   "cell_type": "code",
   "execution_count": 46,
   "metadata": {},
   "outputs": [
    {
     "name": "stderr",
     "output_type": "stream",
     "text": [
      "<ipython-input-43-0e3b29b7eb36>:25: DeprecationWarning: Call to deprecated `syn0` (Attribute will be removed in 4.0.0, use self.vectors instead).\n",
      "  self.dim = len(word2vec.wv.syn0[0])\n"
     ]
    }
   ],
   "source": [
    "Average_embedding_vectorizer = AverageEmbedVect(w2v_model)\n",
    "Average_embedded = Average_embedding_vectorizer.fit_transform(data['words'])\n"
   ]
  },
  {
   "cell_type": "code",
   "execution_count": 40,
   "metadata": {},
   "outputs": [],
   "source": [
    "np.savetxt('C:/Users/Gee/Documents/카카오톡 받은 파일/Average_embeddedexcercise.txt', Average_embedded)"
   ]
  },
  {
   "cell_type": "code",
   "execution_count": 41,
   "metadata": {},
   "outputs": [],
   "source": [
    "AverageEmbedVect = np.loadtxt('C:/Users/Gee/Documents/카카오톡 받은 파일/Average_embeddedexcercise.txt')"
   ]
  },
  {
   "cell_type": "code",
   "execution_count": 47,
   "metadata": {},
   "outputs": [],
   "source": [
    "Mean_w2v_cosine_sim = cosine_similarity(Average_embedded)"
   ]
  },
  {
   "cell_type": "code",
   "execution_count": 43,
   "metadata": {},
   "outputs": [],
   "source": [
    "wb2 = openpyxl.Workbook()\n",
    "sheet = wb2.active\n",
    "for i in range(10):\n",
    "    sheet.append(recommend(i, Mean_w2v_cosine_sim))\n",
    "\n",
    "wb2.save(\"C:/Users/Gee/Documents/카카오톡 받은 파일/mw2vexcercise.xlsx\")"
   ]
  },
  {
   "cell_type": "code",
   "execution_count": 48,
   "metadata": {},
   "outputs": [
    {
     "name": "stdout",
     "output_type": "stream",
     "text": [
      "[' (동화작가 조성자의) 엄마표 독서토론논술 :내 아이의 미래를 결정짓는 독서 교육의 모든 것', ' 초등학교 독서습관 평생을 좌우한다', ' (초등 1~2학년 교과서 잡는) 엄마표 독서 놀이', \" 집 없는 아이=Nobody's boy\", ' 독서 교육론 독서 논술 지도론', ' 아라비안나이트', ' 닐스의 신기한 모험=(The)wonderful adventures of Nils', ' 우리 아빠는 대머리예요', ' 논술은 밥이다', ' 초등시기 나는 이렇게 책을 읽었다 :서울대생 13인의 초등 독서이력', ' (평범한 내 아이 상위 1%로 만드는) 초등 과목별 만점공부법 :평범한 첫째부터 영재 막내까지, 멘토맘의 쉬운 공부법 노하우!', ' 네모칸 속에 그린 비비새', ' 아이야, 독서하자 논술하자', ' (최창의 선생님이 콕콕 짚어주는) 신나는 글쓰기 초등학교', ' (최창의 선생님이 콕콕 짚어주는) 행복한 글쓰기 초등학교', ' 책, 인생을 사로잡다', ' 꺼벙이 억수 (반양장)', ' (수학이 술술 풀리는) 1학년 수학일기', ' 내 아이를 위한 인문학 교육법 :부모가 물려줄 수 있는 가장 위대한 유산', ' 잠수네 초등 1, 2학년 공부법 :영어수학국어']\n",
      "\n",
      "[' 개미, 공룡의 샅바를 잡다! :왕초보를 위한 기술적 분석의 모든 것', ' (30평 아파트 대신) 1000평 땅주인 된 엄마', ' 부자 본능 :내 안의 리치 파워를 발견하는 법!', ' 많든 적든 내 월급이다 :월급쟁이 싱글 3년 안에 목돈 모으기', \" (사치의 나라) 럭셔리 코리아 :심층 인터뷰를 통해 알아본 대한민국 '명품소비 증후군'\", ' 지금 부동산 안 사면 평생 부자 꿈도 꾸지마라', ' 이것이 금맥 캐는 농지 경매다 :나 홀로 고수의 내는 경매의 블루오션', ' (켄 피셔) 역발상 주식 투자', ' 그래도 애널 리포트가 저평가 종목 선택의 지름길이다', ' (회계사 최병철의) 개미마인드 :재무제표로 주식투자하라!', ' 부자언니 1억 만들기', ' 가계부 잘 쓰는 법 :착한 가계부 행복한 경제', ' (읽으면 바로 돈 되는) 신용카드 경제학', ' 기획 초보자가 꼭 알아야 할 85가지', ' 상위 1% 공인중개사의 영업 비밀 :어떤 정책에도 흔들리지 않고 월 수익 1,000만 원 보장하는 부동산 중개 노하우', ' 나는 돈이 없어도 사업을 한다 :스펙도 나이도 필요없는 주말 48시간의 기적', ' 푼돈아 고마워 :쌈짓돈 10만 원으로 시작하는 부자법칙 41', ' 한국에서 성공하는 법 =대한민국 최강의 젊은 멘토 이진우의 성공 트레이닝스쿨 /(The) way to accomplish a successfu', ' 경영학 거 별거 아니야!', ' 부자는 돈이 일하게 한다  :자수성가한 70억 자산가의 25년 재테크 노하우']\n",
      "\n",
      "[' (게임하는 인간) 호모루두스 =존 내시의 게임이론으로 살펴본 인간본성의 비밀 /Homo ludus', ' 30분에 읽는 프로이트', ' 천재자본주의 vs 야수자본주의 :번영과 탐욕의 두 얼굴, 자본주의는 어떻게 진화하는가', ' 인지심리학과 그 응용', ' 물리학', ' (노벨) 생리 의학상', ' 부분과 전체 :원자물리학을 둘러싼 대화들', ' 스위치 :손쉽게 극적인 변화를 이끌어내는 행동설계의 힘', ' 클린코드 :애자일 소프트웨어 장인 정신', ' 파괴자들 =실패를 성공으로, 파괴를 창조로 만드는 실리콘밸리의 특별한 비밀 /Disruptors', ' 기억을 찾아서 :노벨상을 수상한 위대한 천재 과학자 에릭 캔델의 삶을 통해 보는 뇌와 기억의 과학', ' (의식의 등장에서 생각의 실현까지) 브레인 룰스', \" 그들은 아는, 우리만 모르는 :위키리크스가 발가벗긴 '대한민국의 알몸'\", ' 아이팟처럼 만들고 구글처럼 팔아라', ' 중력·우주를 지배하는 힘 :아인슈타인의 상대성이론부터 초끈이론까지', ' 빅 히스토리 :한 권으로 읽는 모든 것의 역사', ' 뉴턴의 비밀', ' 미래의 물리학', ' 0과 무한의 과학', ' (미래의 눈으로 다시 읽는) 과학신문']\n",
      "\n",
      "[' 마음하는 아우야! :법정스님 편지', ' 미스터 후회남 :둥시 東西 장편소설', ' 야행 :모리미 도미히코 장편소설', ' 아일랜드', ' 프레드릭', ' 얼마만큼의 애정', ' 박쥐 =Thirst', ' 부다페스트', ' (박재동의) 손바닥 아트', ' 정호승 동화집', ' 민들레는 장미를 부러워하지 않는다', ' 완벽한 병실', ' 반딧불 언덕', ' 옛날이야기', ' 패셔넬라', ' 속도에서 깊이로 :철학자가 스마트폰을 버리고 월든 숲으로 간 이유', ' 나의 를리외르 아저씨=Relieur et robinier', ' 야단법석', ' (어떻게 이해할까?) 키치=Kitsch', ' 하루키 레시피 =무라카미 하루키의 책에서 꺼낸 위로의 요리들 /Haruki recipe']\n",
      "\n",
      "[' 조선왕실의 보물 의궤', ' 한 폭의 한국사 :우리 그림 보며 한국사 나들이', ' 조선시대 산수화, 아름다운 필묵의 정신사', ' 창덕궁:조선의 참 궁궐', ' 뇌, 아름다움을 말하다', ' 이야기로 엮은 한국사·세계사 비교연표', ' 동성애의 역사:문학과 예술을 통해 본 동성애, 그 탄압과 금기의 기록', ' 책벌레들 조선을 만들다', ' (한 권으로 보는) 그림 한국사 백과', ' 달력에서 역사찾기 :국경일과 법정 기념일로 보는 우리 역사', ' 세계 제국이 등장하다 :900년~1500년', ' (만화) 문화유산 답사기 :확장판', ' 대동 여지도:126 목판에 새긴 우리 땅 이야기', ' 고구려, 전쟁의 나라:7백 년의 동업과 경쟁', ' (무명화가들의 반란) 민화', ' 비단길에서 만난 세계사', ' (미술로 보는) 우리 역사', ' 실크로드와 동서 문명의 교류', ' 우리 한옥에 숨은 과학', ' 세상은 큰 놀이터다']\n",
      "\n",
      "[' 베이킹 소다 활용 지혜:집 안이 반짝반짝! 상쾌한 하루하루!', ' 수납공부 :오늘도 물건을 사버렸습니다', ' 길로 길로 가다가전래동요', \" (이븐즈의) 생활속 북아트 =Even's book art in the living\", ' 2색으로 즐기는 자수 생활', ' (스타일리스트 사토 카나의) 사랑스럽고 예쁜 여자아이 옷 :사계절 내내 활용하는 스타일링 제안 55', ' (세상에 하나뿐인)나만의 책 만들기', ' 케틀벨, 빠르게 몸짱 되기! =Kettlebell quick result', ' 타샤의 집:손으로 만드는 따뜻한 세상', ' 마크라메 라이프 =10가지 매듭으로 완성하는 감성 인테리어 소품 /Macramé life', ' 아기그림사전', ' 휘게 스타일 :덴마크 사람들의 편안하고 따뜻한 집과 생활', ' 후후후의 숲 :조경란 짧은 소설', ' 내일 또 만나', ' 레몬이네 사계절 집밥 도시락 이야기 :집에서도 밖에서도 든든한 집밥 레시피', ' (주머니 속의)행복 초콜릿', ' 양과 강철의 숲 :미야시타 나츠 장편소설', ' 1천권 독서법 :하루 한 권 3년, 내 삶을 바꾸는 독서의 기적', ' 그들은 알고리즘을 알았을까 :길 찾던 헨젤과 그레텔, 마법 주문 외우던 해리 포터', ' 노각 씨네 옥상 꿀벌']\n",
      "\n",
      "[' 반야심경 :반야심경 해설집', ' 정호승 동화집', ' 시가 내게로 왔다 :내가 사랑하는 젊은 시', ' 기름부으심 =막혀 있는 기름부음의 통로를 활짝 열어줄 능력의 열쇠 /Anointing', ' 붓다, 나를 흔들다', ' (청소년) 주님은 나의 최고봉 :십대를 위한 365 묵상', ' 다산어록청상', ' 무엇이든 쓰게 된다 :소설가 김중혁의 창작의 비밀', ' 글쓰기 생각쓰기', ' 위대한 영감 :네 안에 잠든 천재를 깨워라', ' 첫 키스는 엘프와', ' 패셔넬라', ' 명쾌한 논어, 21세기에 답하다', ' 젊은 사자는 썩은 고기를 먹지 않는다', ' 초현실주의 외', ' 근대문학의 종언', ' (맥 쓰는 사람들과 함께하는) mac OS 시에라', ' 여행 :정호승 시집', ' 정경연의 부자되는 양택풍수', ' 비울수록 가득하네 :행복을 키우는 마음연습']\n",
      "\n",
      "[' P교수의 엽기 연구실 :꽉 막힌 아이디어를 뚫어주는 책', ' 희동이네 떡방앗간 :전통 떡 & 퓨전 쌀 디저트 레시피 총집합', ' (조이~joy) 클레이나라 :150 아이템', ' (황석영의)맛과 추억', ' 독일 =Germany', ' 칼과 입술 :우리를 살게 하는 맛의 기억 사전', ' (거친음식 박사 이원종의) 막걸리 기행 :우리 몸을 살리는 전통 발효주와 토종 먹거리를 찾아서', ' (파티오 유진의) 오가닉 식탁 :자연을 먹는 가장 쉽고 맛있는 방법', ' (기분 좋은)선물 포장=Packing & wrapping', ' 라뒤레 디저트 레시피', ' 농부의 밥상:유기농 대표 농부 10집의 밥상을 찾아서', ' 시드니! =Sydney!', ' 선재 스님의 이야기로 버무린 사찰음식 :선재 스님의 약보다 좋은 사찰음식 이야기', ' 다이어트 불변의 법칙 :왜 야생동물은 병과 비만이 없는가?', ' 테이스티로드 오사카 =오사카에서 만나는 최초의 맛, 최고의 맛 /Tasty road Osaka', ' 뉴욕 리얼 푸드 =갓 구운 베이글처럼 고소한, 오믈렛처럼 부드러운 뉴욕의 음식 이야기 /New York real food', ' 아내의 식탁 :쉽게 만들고 예쁘게 즐기는 행복한 가정식 레시피', ' 행복한 만찬 :공선옥 음식 산문집', ' 진짜 홍콩 마카오 100 :짧고 굵게 여행하자!', \" (맛있는 요리로 날마다 행복한) 리혜의 메이저 밥상 =Rie's kitchen\"]\n",
      "\n",
      "[' 소설 제주', ' 재인, 재욱, 재훈 :정세랑 소설', ' 뒤뜰에 골칫거리가 산다', ' 하루키 레시피 =무라카미 하루키의 책에서 꺼낸 위로의 요리들 /Haruki recipe', ' 어느 멋진 하루', ' 타네씨, 농담하지마세요', ' 후후후의 숲 :조경란 짧은 소설', ' 이 책이 세상에 존재하는 이유:가쿠타 미쓰요 소설', ' 식인종의 요리책 :카를로스 발마세다 장편소설', ' 냉장고에 사랑을 담아', ' 라크리모사 =윤현승 장편소설 /Lacrimosa', ' 그린 핑거 :김윤영 소설집', ' 데스 노블 =노현진 장편소설 /Death novel', ' 그리고 아무 말도 하지 않았다 :하인리히 뵐 장편소설', ' 벌레 이야기:이청준 소설', ' 나는 농담이다 :김중혁 장편소설', ' 열차 안의 낯선 자들', ' 픽업 :더글라스 케네디 소설', ' 그녀는 안개와 함께 왔다:김미진 소설', ' (홍성원 장편소설)마지막 우상']\n",
      "\n",
      "[' (모든 영역에 필요한 프랑스어 어휘 수록)프랑스어 테마별 어휘집', ' (Smart) 영어회화 표현사전 5000 :Smart dictionary of easy English expressions', ' 한자야 미안해 \"너무 재밌어서\":어휘편', ' (라이프 트렌드 2015) 가면을 쓴 사람들', ' Gong Tong 영어 :모두가 알아야 할 영어의 공통분모', ' 도쿄 =요코하마 하코네 닛코 카마쿠라 /Tokyo', ' (급할 때 챙겨보면 법원 갈 일 없어지는) 생활법률 119', ' 테이스티로드 오사카 =오사카에서 만나는 최초의 맛, 최고의 맛 /Tasty road Osaka', ' (EBS 얼짱 강사 레이나의) 올 어바웃 스피킹 =영어 울렁증 극복 프로젝트 /All about speaking', ' (원하는 문장을 바로 찾는) 영어회화 표현사전', ' (즉석에서 활용하는) 자유자재 여행 프랑스어', ' Style English:듣기만 해도 영어표현이 기억되는 스타일 잉글리시', ' (즉석에서 바로바로 활용하는) 일상생활 러시아어 첫걸음', ' 화폐와 금융 :돈의 역사와 쓰임새를 배워요', ' 경제 개념어 사전 =한 권으로 끝내는 경제·금융 용어 완전정복 가이드! /Economy notion word dictionary', ' (Say say say) 여행 :영어 말하기 프로그램', ' 마크라메 라이프 =10가지 매듭으로 완성하는 감성 인테리어 소품 /Macramé life', ' (일드 명대사 200개로 배우는) 드라마 일본어 문법', ' 영어 회화 바이블 =English speaking bible', ' (긴급통역)여행 중국어 회화']\n",
      "\n"
     ]
    }
   ],
   "source": [
    "for i in range(10):\n",
    "    print(recommend(i, Mean_w2v_cosine_sim))\n",
    "    print()"
   ]
  },
  {
   "cell_type": "code",
   "execution_count": 49,
   "metadata": {},
   "outputs": [],
   "source": [
    "from scipy.sparse.linalg import svds\n",
    "from sklearn.decomposition import TruncatedSVD"
   ]
  },
  {
   "cell_type": "code",
   "execution_count": 50,
   "metadata": {},
   "outputs": [],
   "source": [
    "def rem_fir_princ_comp(X):\n",
    "    svd = TruncatedSVD(n_components=1, n_iter=7, random_state=0)\n",
    "    svd.fit(X)\n",
    "    pc = svd.components_\n",
    "    XX = X - X.dot(pc.transpose()) * pc\n",
    "    return XX\n",
    "\n",
    "def sif(sent, a=0.001, word2vec_model=w2v_model):\n",
    "    word_counter = {}\n",
    "    lines = []\n",
    "    total_count = 0\n",
    "    no_of_lines = 0\n",
    "    \n",
    "    for s in sent:\n",
    "        for w in s:\n",
    "            if w in word_counter:\n",
    "                word_counter[w] = word_counter[w] + 1\n",
    "            else:\n",
    "                word_counter[w] = 1\n",
    "        total_count = total_count + len(s)\n",
    "        no_of_lines = no_of_lines + 1\n",
    "    \n",
    "    sents_emd = []\n",
    "    for s in sent:\n",
    "        sent_emd = []\n",
    "        for word in s:\n",
    "            if word in word2vec_model:\n",
    "                emd = (a/(a + (word_counter[word]/total_count)))*word2vec_model[word]\n",
    "                sent_emd.append(emd)\n",
    "        sum_ = np.array(sent_emd).sum(axis=0)\n",
    "        line_emd = sum_/float(no_of_lines)\n",
    "        sents_emd.append(line_emd)\n",
    "        \n",
    "    new_sents_emb = rem_fir_princ_comp(np.array(sents_emd, dtype = object))\n",
    "    return new_sents_emb"
   ]
  },
  {
   "cell_type": "code",
   "execution_count": 51,
   "metadata": {},
   "outputs": [
    {
     "name": "stderr",
     "output_type": "stream",
     "text": [
      "<ipython-input-50-9379a6bc3863>:27: DeprecationWarning: Call to deprecated `__contains__` (Method will be removed in 4.0.0, use self.wv.__contains__() instead).\n",
      "  if word in word2vec_model:\n",
      "<ipython-input-50-9379a6bc3863>:28: DeprecationWarning: Call to deprecated `__getitem__` (Method will be removed in 4.0.0, use self.wv.__getitem__() instead).\n",
      "  emd = (a/(a + (word_counter[word]/total_count)))*word2vec_model[word]\n"
     ]
    }
   ],
   "source": [
    "sif_words_emd = sif(words_list)"
   ]
  },
  {
   "cell_type": "code",
   "execution_count": 48,
   "metadata": {},
   "outputs": [],
   "source": [
    "np.savetxt('C:/Users/Gee/Documents/카카오톡 받은 파일/sif_words_emdfinal22.txt', sif_words_emd)"
   ]
  },
  {
   "cell_type": "code",
   "execution_count": 49,
   "metadata": {},
   "outputs": [],
   "source": [
    "sif_words_emd = np.loadtxt('C:/Users/Gee/Documents/카카오톡 받은 파일/sif_words_emdexcercise.txt')"
   ]
  },
  {
   "cell_type": "code",
   "execution_count": 52,
   "metadata": {},
   "outputs": [],
   "source": [
    "sif_cosine_sim = cosine_similarity(sif_words_emd)"
   ]
  },
  {
   "cell_type": "code",
   "execution_count": 51,
   "metadata": {},
   "outputs": [],
   "source": [
    "wb3 = openpyxl.Workbook()\n",
    "sheet = wb3.active\n",
    "for i in range(10):\n",
    "    sheet.append(recommend(i, sif_cosine_sim))\n",
    "\n",
    "wb3.save(\"C:/Users/Gee/Documents/카카오톡 받은 파일/sifexcercise.xlsx\")"
   ]
  },
  {
   "cell_type": "code",
   "execution_count": 53,
   "metadata": {},
   "outputs": [
    {
     "name": "stdout",
     "output_type": "stream",
     "text": [
      "[' (동화작가 조성자의) 엄마표 독서토론논술 :내 아이의 미래를 결정짓는 독서 교육의 모든 것', ' (어떻게 이해할까?) 표현주의=Expressionism', ' (13세 전에 시작하는) 엄마표 독서육아', ' (초등학생을 위한)학년별 동시ㆍ동화 모음집', ' (어떻게 이해할까?) 바로크=Baroque', ' (21세기) 영양학=Nutrition', ' 아이야, 독서하자 논술하자', ' 동양사상의 이해', ' 홍콩 :천 가지 표정의 도시', \" 유아문학교육의 이론과 실제 =누리과정 생활주제별 문학 활동 /Children's literature education\", ' (다시 만난 옛벗) 공자의 논어', ' 교육의 역사와 철학', ' 양자의학 :현대의학의 한계를 뛰어넘는 새로운 패러다임 /Quantum medicine : body, quantum wave field, min', ' 노인교육의 이론과 실제', ' 영어로 논문쓰기=(The)essential guide to writing English papers', ' (연령별)미술실기지도', ' 콜라 장사', ' 논문의 힘 :공부의 시작과 끝, 논문 쓰기의 모든 것', ' (Bestbaby) 이유식+유아식', ' 약 사용설명서 :우리 집에 꼭 필요한 약과 영양제 똑똑하게 선택하는 법']\n",
      "\n",
      "[' 개미, 공룡의 샅바를 잡다! :왕초보를 위한 기술적 분석의 모든 것', ' (주식투자의 삼파전)주식 삼국지', ' 주식투자로 진 빚 7억 나는 이렇게 갚았다', ' (타이쿤의) 주식투자 절대공식', ' 주식, 뉴스로 보는 대박의 기술 =애널리스트들이 절대 공개하지 않는 뉴스 리딩/Get the know-how to be great succes', ' 한국의 주식 부자들', ' 주식에 장기투자하라 :와튼스쿨 제러미 시겔 교수의 위대한 투자철학', ' 직장인 주식투자의 정석 :주식과 직장, 두 마리 토끼를 잡는 법', ' (대한민국) 주식투자 다이어리 =충동과 감정으로 인한 매매솔실에서 탈출하고, 분석과 기록을 통해 승리하는 가치투자자들의 비밀 /Stock in', ' 주식투자 입문사전 :주식투자 하기 전에 알아야 할 110가지', ' 영어는 원패턴이다', ' 주식투자의 황금지도=Gold map', ' 저는 기업분석이 처음인데요 :꼼꼼한 생초보의 기업분석 입문기', ' 주식 금맥 5원소기법 :한 발 앞선 대시세종목 발굴법', ' 주식투자로 수익내는 155가지 방법 :왕초보탈출', ' 차트의 기술:한 권으로 읽는 기술적 분석의 모든 것', ' (회계사 최병철의) 개미마인드 :재무제표로 주식투자하라!', ' (허영만의) 3천만원 :왕초보 허영만의 주식투자 도전기', ' (평생월급 3년 내에 가능한) 3536 직장인 경매', ' 대한민국 주식투자 글로벌 가치투자거장 분석 =저평가, 수익성, 성장성 중심 가치투자거장들의 17가지 투자전략 /Analysis of value']\n",
      "\n",
      "[' (게임하는 인간) 호모루두스 =존 내시의 게임이론으로 살펴본 인간본성의 비밀 /Homo ludus', ' 게임이론의 사고법 =비즈니스와 인생을 바꾸는 전략 발상의 기술 /How to think like a game theorist', ' 이타적 인간의 출현 :게임이론으로 푸는 인간 본성 진화의 수수께끼', ' 임상심리학', ' 인간의 조건', ' (청소년을 위한) 세계 문학 에세이 :청소년의 지성과 감성을 키우는 허병두 선생님의 문학, 삶, 여행', ' 신의 언어 :유전자 지도에서 발견한 신의 존재', ' 질문하는 십대, 대답하는 인문학', ' 네마음 내가 안다:재미있는 인간 심리 세미나', ' 인간 없는 세상', ' 압도적인 임재를 갈망하라', ' 안데르센 동화집', ' (Kohlberg)도덕발달의 철학', ' 선생님, 울지 마세요', ' (청소년들이 쉽게 읽는) 유럽역사 이야기', ' 실격당한 자들을 위한 변론', ' 아인슈타인이 들려주는 상대성원리 이야기', ' 개를 데리고 다니는 여인', ' 우리 대중음악의 큰별들', ' 상자 밖에 있는 사람들']\n",
      "\n",
      "[' 마음하는 아우야! :법정스님 편지', ' (존 비비어의) 임재 :하나님과 더 깊이 만나는 8가지 영성훈련', ' 하나님 음성 확실히 듣는 법', ' 야단법석', ' 하나님, 정말 당신이십니까? :하나님의 음성을 듣는 법', ' 일기일회', ' (어린이)팔만대장경', ' 마음 닦는 비결 :해안 스님 수심결 강의', ' 길 위에서 :삶의 의미를 찾아 떠난 300일의 마음수업', ' 하늘에서 떨어진 장화', ' 잘못 걸린 선생님', ' 졸참나무처럼', ' 기름부으심 =막혀 있는 기름부음의 통로를 활짝 열어줄 능력의 열쇠 /Anointing', ' 선생님, 우리 선생님', ' 내 영이 마르지 않는 연습 :하나님의 숨결을 찾아가는 여행', ' 산빛 이야기', ' 선생님이 네 거야?', ' 살아 있는 것은 다 행복하라:법정 잠언집', ' 반야심경 :반야심경 해설집', ' 붓다, 나를 흔들다']\n",
      "\n",
      "[' 조선왕실의 보물 의궤', ' 조선 왕실 기록문화의 꽃, 의궤', ' 조선왕조 귀신 실록 :조선의 왕들을 두려움에 떨게 한 궁궐의 귀신들', ' (왕의 여인) 어을우동 :김경민 장편소설', ' 우리가 몰랐던 조선 :<조선왕조실록>에 감춰진 조선의 내밀한 역사', ' 조선왕조 상식여행', ' 조선의 왕실과 외척', ' 조선왕비열전', ' 조선 왕가 며느리 스캔들', ' (세종대왕이 들려주는) 훈민정음', ' 조선궁중 잔혹사 :역사장편소설', ' 천황의 하루 :오늘, 일본 황궁에서는 무슨 일이 있었나?', ' 조선 임금 잔혹사 :그들은 어떻게 조선의 왕이 되었는가', ' 두근두근 역사여행 조선 :두루두루 방방곡곡 조선 체험기', ' 궁궐을 제대로 보려면 왕이 되어라', ' 창덕궁:조선의 참 궁궐', ' 옛 그림 속에 숨은 문화유산 찾기 :교과서에 나오는 우리 그림 32점으로 본 유물과 풍습', ' 왕과 아들 :조선시대 왕위 계승사', ' 역사 인물 옛이야기', ' (소현세자빈) 강빈 :김혜경 장편소설']\n",
      "\n",
      "[' 베이킹 소다 활용 지혜:집 안이 반짝반짝! 상쾌한 하루하루!', \" (똑똑한 여우들의) 영양만점 홈베이킹 =Home baking : a smart foxes' full nutrition\", ' 베이킹 소다 활용법 A to Z =Surprising uses for baking soda', ' 해킹 :공격의 예술', ' (깐깐한 에코맘의) 친환경 베이킹소다 살림법', ' (초보에서 고수까지 한 권으로 끝내는) 홈베이킹 바이블 =Baking Bible', ' 해킹 침입의 드라마', ' (참 쉬운 빵&쿠키) 파란달의 빵타지아', ' Hacker4u의 해킹 보안 노트', ' (Easy) 홈베이킹 교과서 =초보부터 프로까지~ 친절한 빵 케이크 쿠키 선생님 /Easy homebaking', ' (이양지의 특별한) 홈베이킹', ' (쿡앤북의) 달콤한 자연식 베이킹 :No 버터! No 에그!', ' 해킹과 보안=Hacking & security', ' 크래커 잡는 명탐정 해커', ' (참 좋은) 엄마표 홈베이킹 :우리 가족을 위한 건강빵·케이크·쿠키', ' 누구나 쉽게 성공하는 홈베이킹', ' 언로킹 안드로이드 :개발자 가이드', ' 해킹, 파괴의 광학=Hacking, the art of destruction', ' 스피킹 idea 쏘스북 =Speaking idea source book', ' 유혹하는 글쓰기 :스티븐 킹의 창작론']\n",
      "\n",
      "[' 반야심경 :반야심경 해설집', ' 평생 걱정 없이 사는 법 :마음이 지치고 심란할 때 읽는 반야심경의 지혜', ' (어린이)팔만대장경', ' 마음하는 아우야! :법정스님 편지', ' 선생님, 울지 마세요', ' 칸트 아저씨네 연극반', ' 방과 후 운동장 교실', ' 잘못 걸린 선생님', ' 세상에서 가장 강한 힘 경청', ' 하나님, 정말 당신이십니까? :하나님의 음성을 듣는 법', ' 하나님 앞에 머물러라 :가장 거룩한 낭비', ' 마음 닦는 비결 :해안 스님 수심결 강의', ' 하나님 음성 확실히 듣는 법', ' (살아있는 동안 꼭 읽어야 할) 부처님 말씀 108가지', ' 논어 :우리 반을 흔들다', ' 일어나라 :치열한 세상에서 강한 용사로 서게 하는 하나님의 강력한 세워 주심', ' 산빛 이야기', ' 처음마음 :인생의 참 행복을 시작하는 내 마음의 전원 스위치', ' 하나님이 지켜 주실 거야', ' 반구대 암각화 이야기']\n",
      "\n",
      "[' P교수의 엽기 연구실 :꽉 막힌 아이디어를 뚫어주는 책', ' Why? 약물과 치료', ' 약은 우리몸에 어떤 작용을 하는가', ' (몸을 위한 최선) 셀프메디케이션 =알아두면 약이 되는 약 선택 완벽 가이드 /Self medication', ' 약이 사람을 죽인다:의사·약사·제약회사가 숨기는 약의 비밀', ' 하룻밤에 읽는 성서', ' (스타일리스트 사토 카나의) 사랑스럽고 예쁜 여자아이 옷 :사계절 내내 활용하는 스타일링 제안 55', ' 일생에 한번은 독일을 만나라 :독일의 문화, 역사, 그리고 삶의 기록들', ' 약은 독이다 :약을 쓰지 않는 약사가 처방하는 27가지 건강실천법', ' 그 사과밭에 생긴 일', ' 평화가 깃든 밥상 :쉽고 소박한 문성희의 자연 요리', ' (조혜분의 알기쉬운)약선요리', \" Stylish 龍's 끼니 :싱글족을 위한 간편 밥상\", ' TV 귀신 소파 귀신', ' 테이스티로드 오사카 =오사카에서 만나는 최초의 맛, 최고의 맛 /Tasty road Osaka', ' 여행자의 밥 :한 끼의 식사가 때론 먼 바다를 건너게 한다', ' (3,000원으로)보약 만들기:서민의, 서민에 의한, 서민을 위한 요리책', ' (솔뫼선생과 함께) 알면 약이 되는 몸에 좋은 식물 150', ' (딸기공주의 톡톡 튀는) 아이디어 밥상:펑범한 밥상을 즐거운 밥상으로 바꿔주는', ' 한국의 약초 =(The) medicinal herb of Korea']\n",
      "\n",
      "[' 소설 제주', ' 도토리는 다 먹어', ' 자운영 꽃밭에서 나는 울었네:공선옥 산문집', ' 황소 아저씨', ' 심부름 가는 길에', ' 우리 집 막내는 꼬꼬닭', ' 눈꽃나무', ' 잠꾸러기의 아침:안녕! 친구들아', ' 황금숲 =윤소리 장편소설.The golden forest', ' 얼굴 빨개지는 아이', ' 아주 작은 씨앗', ' 숲 속 작은 집 창가에', ' 밤으로 떠나는 여행', ' 내 이름은 삐삐 롱스타킹', ' 호기심 많은 꼬마 물고기', ' 귀여운 아기곰 판다', ' 금이와 메눈취 할머니', ' 숲 속에서 쿨쿨', ' 태양의 악사들', ' 이야기 담요']\n",
      "\n",
      "[' (모든 영역에 필요한 프랑스어 어휘 수록)프랑스어 테마별 어휘집', ' (New TOEIC) voca bank:실제문제 풍부한 뉴토익 어휘집', ' (Essential guide) Final cut pro X =파이널 컷 프로 X', ' (동시통역)중국어회화사전', ' 러브톡톡', ' 어떤 브랜드가 마음을 파고드는가 :브랜드와 심리학의 만남', ' 파라오의 저주 :세기적인 발굴과 함께 부활한 고대 이집트의 위대한 문명!', ' 마이 내추럴 홈 =임대·중고 아파트도 나만의 스타일로 꾸미는 리모델링 테크닉 /My natural home', ' 아이팟처럼 만들고 구글처럼 팔아라', ' 갤럭시탭 using bible =스마트 라이프를 위한 갤럭시탭의 모든 것 /Galaxytab using bible', ' (Perium) voca for TOEFL writing', ' 영어, 이젠 교복을 벗자:교과서 영어 탈출 가이드', ' 중국어 어휘의 달인의 되는 법 :HSK 1~4급', ' (삼성어린이집)유아 프로그램:5세', ' 파리에서 발견한 단독주택 인테리어', ' 토익 Part 5·6 뽀개기:문법 및 어휘편', ' 중국어 어휘의 달인의 되는 법 :HSK 5급', ' 브랜드와 디자인의 힘=브랜드 전문가 손혜원의 히트 브랜드 만들기/Brand & design power', ' (속 깊은) Javascript :ECMAScript 표준 문서를 바탕으로 펼치는 속 깊은 자바스크립트', ' (포토샵과 디지털 카메라)사진 촬영의 달인=그대로 따라하기/Digital camera technic']\n",
      "\n"
     ]
    }
   ],
   "source": [
    "for i in range(10):\n",
    "    print(recommend(i, sif_cosine_sim))\n",
    "    print()"
   ]
  },
  {
   "cell_type": "code",
   "execution_count": 54,
   "metadata": {},
   "outputs": [],
   "source": [
    "from gensim.models import KeyedVectors\n",
    "w2v_model.wv.save_word2vec_format('w2v_model2') \n",
    "loaded_model = KeyedVectors.load_word2vec_format(\"w2v_model2\")"
   ]
  },
  {
   "cell_type": "code",
   "execution_count": null,
   "metadata": {},
   "outputs": [],
   "source": [
    "model_result = loaded_model.most_similar(\"남자\")"
   ]
  },
  {
   "cell_type": "code",
   "execution_count": 56,
   "metadata": {},
   "outputs": [
    {
     "name": "stderr",
     "output_type": "stream",
     "text": [
      "2020-11-29 20:53:34,240 - word2vec2tensor - INFO - running C:\\Users\\Gee\\anaconda3\\lib\\site-packages\\gensim\\scripts\\word2vec2tensor.py --input w2v_model2 --output w2v_model2\n",
      "2020-11-29 20:53:34,240 - utils_any2vec - INFO - loading projection weights from w2v_model2\n",
      "2020-11-29 20:53:39,684 - utils_any2vec - INFO - loaded (13555, 300) matrix from w2v_model2\n",
      "2020-11-29 20:53:43,904 - word2vec2tensor - INFO - 2D tensor file saved to w2v_model2_tensor.tsv\n",
      "2020-11-29 20:53:43,905 - word2vec2tensor - INFO - Tensor metadata file saved to w2v_model2_metadata.tsv\n",
      "2020-11-29 20:53:43,908 - word2vec2tensor - INFO - finished running word2vec2tensor.py\n"
     ]
    }
   ],
   "source": [
    "!python -m gensim.scripts.word2vec2tensor --input w2v_model2 --output w2v_model2"
   ]
  },
  {
   "cell_type": "code",
   "execution_count": null,
   "metadata": {},
   "outputs": [],
   "source": []
  }
 ],
 "metadata": {
  "kernelspec": {
   "display_name": "Python 3",
   "language": "python",
   "name": "python3"
  },
  "language_info": {
   "codemirror_mode": {
    "name": "ipython",
    "version": 3
   },
   "file_extension": ".py",
   "mimetype": "text/x-python",
   "name": "python",
   "nbconvert_exporter": "python",
   "pygments_lexer": "ipython3",
   "version": "3.8.3"
  }
 },
 "nbformat": 4,
 "nbformat_minor": 4
}
